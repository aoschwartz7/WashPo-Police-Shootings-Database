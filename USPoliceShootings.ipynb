{
 "cells": [
  {
   "cell_type": "code",
   "execution_count": 3,
   "metadata": {},
   "outputs": [],
   "source": [
    "import numpy as np\n",
    "import pandas as pd"
   ]
  },
  {
   "cell_type": "markdown",
   "metadata": {},
   "source": [
    "*Load CSV file*"
   ]
  },
  {
   "cell_type": "code",
   "execution_count": 26,
   "metadata": {},
   "outputs": [],
   "source": [
    "data = pd.read_csv(\"fatal-police-shootings-data.csv\") "
   ]
  },
  {
   "cell_type": "markdown",
   "metadata": {},
   "source": [
    "*Show column headers*"
   ]
  },
  {
   "cell_type": "code",
   "execution_count": 8,
   "metadata": {},
   "outputs": [
    {
     "name": "stdout",
     "output_type": "stream",
     "text": [
      "Index(['id', 'name', 'date', 'manner_of_death', 'armed', 'age', 'gender',\n",
      "       'race', 'city', 'state', 'signs_of_mental_illness', 'threat_level',\n",
      "       'flee', 'body_camera'],\n",
      "      dtype='object')\n"
     ]
    }
   ],
   "source": [
    "print(data.columns)"
   ]
  },
  {
   "cell_type": "markdown",
   "metadata": {},
   "source": [
    "*How many fatalities occurred and what was the victim's race?*\n",
    "- W: White, non-Hispanic\n",
    "- B: Black, non-Hispanic\n",
    "- A: Asian\n",
    "- N: Native American\n",
    "- H: Hispanic\n",
    "- O: Other\n",
    "- None: unknown"
   ]
  },
  {
   "cell_type": "code",
   "execution_count": 52,
   "metadata": {
    "scrolled": false
   },
   "outputs": [
    {
     "data": {
      "text/plain": [
       "W    2478\n",
       "B    1298\n",
       "H     904\n",
       "A      93\n",
       "N      78\n",
       "O      48\n",
       "Name: race, dtype: int64"
      ]
     },
     "execution_count": 52,
     "metadata": {},
     "output_type": "execute_result"
    }
   ],
   "source": [
    "data['race'].value_counts()"
   ]
  },
  {
   "cell_type": "markdown",
   "metadata": {},
   "source": [
    "*What is the rate that each race will be killed by police?* \n",
    " \n",
    "According to cenus data https://en.wikipedia.org/wiki/Demographics_of_the_United_States#Race, total US population counts for each race are as follows:\n",
    "- White: 234,370,202\n",
    "- Black: 40,610,815\n",
    "- Hispanic: 56,510,571\n",
    "- Asian: 17,186,320\n",
    "- Native American: 2,632,102\n"
   ]
  },
  {
   "cell_type": "code",
   "execution_count": 53,
   "metadata": {},
   "outputs": [
    {
     "name": "stdout",
     "output_type": "stream",
     "text": [
      "Rate that Black people are killed by police: 32 per million\n",
      "Rate that White people are killed by police: 11 per million\n",
      "Rate that Hispanic people are killed by police: 16 per million\n",
      "Rate that Asian people are killed by police: 5 per million\n",
      "Rate that Native American people are killed by police: 30 per million\n"
     ]
    }
   ],
   "source": [
    "race = data.race.unique()\n",
    "raceCount = {}\n",
    "\n",
    "for i in race:\n",
    "    value = data['race'].loc[data['race'] == i].count()\n",
    "    raceCount[i] = value\n",
    "    \n",
    "print(\"Rate that Black people are killed by police: \"+ str(round((raceCount['B']/40610815)*1000000)) + \" per million\")\n",
    "print(\"Rate that White people are killed by police: \"+ str(round((raceCount['W']/234370202)*1000000)) + \" per million\")\n",
    "print(\"Rate that Hispanic people are killed by police: \"+ str(round((raceCount['H']/56510571)*1000000)) + \" per million\")\n",
    "print(\"Rate that Asian people are killed by police: \"+ str(round((raceCount['A']/17186320)*1000000)) + \" per million\")\n",
    "print(\"Rate that Native American people are killed by police: \"+ str(round((raceCount['N']/2632102)*1000000)) + \" per million\")"
   ]
  },
  {
   "cell_type": "code",
   "execution_count": null,
   "metadata": {},
   "outputs": [],
   "source": []
  }
 ],
 "metadata": {
  "kernelspec": {
   "display_name": "Python 3",
   "language": "python",
   "name": "python3"
  },
  "language_info": {
   "codemirror_mode": {
    "name": "ipython",
    "version": 3
   },
   "file_extension": ".py",
   "mimetype": "text/x-python",
   "name": "python",
   "nbconvert_exporter": "python",
   "pygments_lexer": "ipython3",
   "version": "3.7.4"
  }
 },
 "nbformat": 4,
 "nbformat_minor": 4
}
